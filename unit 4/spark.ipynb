{
 "cells": [
  {
   "cell_type": "code",
   "execution_count": null,
   "metadata": {},
   "outputs": [],
   "source": [
    "pip install pyspark\n",
    "from pyspark.sql import SparkSession\n",
    "from pyspark.sql.functions import col, sum\n",
    "\n",
    "# Create SparkSession\n",
    "spark = SparkSession.builder \\\n",
    "    .appName(\"SalesDataAnalysis\") \\\n",
    "    .getOrCreate()\n",
    "\n",
    "# Read CSV file\n",
    "sales_df = spark.read.csv(\"sales_data_sample.csv\", header=True, inferSchema=True)\n",
    "\n",
    "# Data cleaning: Handling missing values and removing duplicates\n",
    "sales_df = sales_df.dropna().dropDuplicates()\n",
    "\n",
    "# Calculate total sales amount for each product\n",
    "product_sales_df = sales_df.groupBy(\"PRODUCTLINE\").agg(sum(\"MSRP\").alias(\"TotalSales\"))\n",
    "\n",
    "# Output results to a new CSV file\n",
    "product_sales_df.write.csv(\"product_sales_summary.csv\", header=True)\n",
    "\n",
    "# Stop SparkSession\n",
    "spark.stop()\n"
   ]
  }
 ],
 "metadata": {
  "language_info": {
   "name": "python"
  }
 },
 "nbformat": 4,
 "nbformat_minor": 2
}
